{
 "cells": [
  {
   "cell_type": "code",
   "execution_count": 4,
   "id": "27686cd6-1258-45c7-aaf9-120f6f64749c",
   "metadata": {},
   "outputs": [
    {
     "data": {
      "text/plain": [
       "610"
      ]
     },
     "execution_count": 4,
     "metadata": {},
     "output_type": "execute_result"
    }
   ],
   "source": [
    "#Exercício 2.1 a Converta as seguintes expressões matemáticas para que possam ser calculadas usando o interpretador Python.\n",
    "10+20*30"
   ]
  },
  {
   "cell_type": "code",
   "execution_count": 8,
   "id": "2f8ebe14-20e9-4544-9932-96b9edbfc800",
   "metadata": {},
   "outputs": [
    {
     "data": {
      "text/plain": [
       "0.5333333333333333"
      ]
     },
     "execution_count": 8,
     "metadata": {},
     "output_type": "execute_result"
    }
   ],
   "source": [
    "#Exercício 2.1 b\n",
    "4**2/30"
   ]
  },
  {
   "cell_type": "code",
   "execution_count": 9,
   "id": "3c0fcc9f-96c5-4447-a162-ddef4efebff5",
   "metadata": {},
   "outputs": [
    {
     "data": {
      "text/plain": [
       "39377"
      ]
     },
     "execution_count": 9,
     "metadata": {},
     "output_type": "execute_result"
    }
   ],
   "source": [
    "#Exercício 2.1 c\n",
    "(9**4+2)*6-1"
   ]
  },
  {
   "cell_type": "code",
   "execution_count": 10,
   "id": "f1fc7de4-b982-4dcb-8ed0-068ab30ac2c6",
   "metadata": {},
   "outputs": [
    {
     "data": {
      "text/plain": [
       "81.0"
      ]
     },
     "execution_count": 10,
     "metadata": {},
     "output_type": "execute_result"
    }
   ],
   "source": [
    "#Exercício 2.2 Digite a seguinte expressão no interpretador:\n",
    "10%3*10**2+1-10*4/2"
   ]
  },
  {
   "cell_type": "code",
   "execution_count": 11,
   "id": "0ee6c695-8418-44fb-883a-e95dd237d92e",
   "metadata": {},
   "outputs": [
    {
     "name": "stdout",
     "output_type": "stream",
     "text": [
      "5\n"
     ]
    }
   ],
   "source": [
    "#programa 2.1\n",
    "a=2\n",
    "b=3\n",
    "print (a+b)"
   ]
  },
  {
   "cell_type": "code",
   "execution_count": 13,
   "id": "fd23745b-2470-4253-a22e-99e1000159e1",
   "metadata": {},
   "outputs": [
    {
     "name": "stdout",
     "output_type": "stream",
     "text": [
      "75.0\n"
     ]
    }
   ],
   "source": [
    "#programa 2.2 - Calculo de aumento de salario\n",
    "salario=1500\n",
    "aumento=5\n",
    "print(salario*aumento/100)"
   ]
  },
  {
   "cell_type": "code",
   "execution_count": 14,
   "id": "80422f3c-04ac-4af3-aa61-9a7e42ccc04d",
   "metadata": {},
   "outputs": [
    {
     "name": "stdout",
     "output_type": "stream",
     "text": [
      "1575.0\n"
     ]
    }
   ],
   "source": [
    "#programa 2.2 - Calculo de aumento de salario somado ao salario\n",
    "salario=1500\n",
    "aumento=5\n",
    "print(salario+salario*aumento/100)"
   ]
  },
  {
   "cell_type": "code",
   "execution_count": 16,
   "id": "d5bd60a1-9194-45a0-9418-ab4959094ba5",
   "metadata": {},
   "outputs": [
    {
     "name": "stdout",
     "output_type": "stream",
     "text": [
      "RENATO\n"
     ]
    }
   ],
   "source": [
    "#Exercício 2.3 Faça um programa que exiba seu nome na tela.\n",
    "print(\"RENATO\")"
   ]
  },
  {
   "cell_type": "code",
   "execution_count": 18,
   "id": "ae3a4d1e-43d4-4a6b-9558-3c3fc2da5f05",
   "metadata": {},
   "outputs": [
    {
     "name": "stdout",
     "output_type": "stream",
     "text": [
      "21\n"
     ]
    }
   ],
   "source": [
    "#Exercício 2.4 Escreva um programa que exiba o resultado de 2a x 3b, em que a vale 3 e b vale 5.\n",
    "a=3\n",
    "b=5\n",
    "print(2*a+3*b)"
   ]
  },
  {
   "cell_type": "code",
   "execution_count": 19,
   "id": "acdc079c-9a85-4fe7-bee7-565936d6a3d3",
   "metadata": {},
   "outputs": [
    {
     "name": "stdout",
     "output_type": "stream",
     "text": [
      "30\n"
     ]
    }
   ],
   "source": [
    "#Exercício 2.5 Escreva um programa que calcule a soma de três variáveis e imprima o resultado na tela.\n",
    "a=5\n",
    "b=12\n",
    "c=13\n",
    "print(a+b+c)"
   ]
  },
  {
   "cell_type": "code",
   "execution_count": 21,
   "id": "2b040754-ae54-4e1e-880b-83ebd6dea7a0",
   "metadata": {},
   "outputs": [
    {
     "name": "stdout",
     "output_type": "stream",
     "text": [
      "862.5\n"
     ]
    }
   ],
   "source": [
    "#Exercício 2.6 Modifique o Programa 2.2, de forma que ele calcule um aumento de 15% para um salário de R$ 750.\n",
    "salario=750\n",
    "aumento=15\n",
    "print(salario+salario*aumento/100)"
   ]
  },
  {
   "cell_type": "code",
   "execution_count": 26,
   "id": "09f1899c-13ee-4c1b-abe6-3b23a84df15a",
   "metadata": {},
   "outputs": [
    {
     "data": {
      "text/plain": [
       "1000"
      ]
     },
     "execution_count": 26,
     "metadata": {},
     "output_type": "execute_result"
    }
   ],
   "source": [
    "#formas alternativas de separar números grandes é utilizar o sublinhado entre os dígitos\n",
    "1_000 #1000"
   ]
  },
  {
   "cell_type": "code",
   "execution_count": 25,
   "id": "f1ea8f0c-784e-462c-a06f-519351f383b9",
   "metadata": {},
   "outputs": [
    {
     "data": {
      "text/plain": [
       "1000000"
      ]
     },
     "execution_count": 25,
     "metadata": {},
     "output_type": "execute_result"
    }
   ],
   "source": [
    "#formas alternativas de separar números grandes é utilizar o sublinhado entre os dígitos\n",
    "1_000_000 #1 milhao"
   ]
  },
  {
   "cell_type": "code",
   "execution_count": 27,
   "id": "246b26d9-fae6-481d-9a9f-9ed79894dc27",
   "metadata": {},
   "outputs": [
    {
     "data": {
      "text/plain": [
       "100"
      ]
     },
     "execution_count": 27,
     "metadata": {},
     "output_type": "execute_result"
    }
   ],
   "source": [
    "#formas alternativas de separar números grandes é utilizar o sublinhado entre os dígitos\n",
    "1_0_0 #100 mas evitar "
   ]
  },
  {
   "cell_type": "code",
   "execution_count": 28,
   "id": "4884c6ce-4e1c-4bcb-a062-5c6ac87ab007",
   "metadata": {},
   "outputs": [
    {
     "data": {
      "text/plain": [
       "1980.1"
      ]
     },
     "execution_count": 28,
     "metadata": {},
     "output_type": "execute_result"
    }
   ],
   "source": [
    "#formas alternativas de separar números grandes é utilizar o sublinhado entre os dígitos\n",
    "1_980.10 #combinando com ponto"
   ]
  },
  {
   "cell_type": "code",
   "execution_count": 30,
   "id": "72bd707b-e7d9-4242-9b85-b121e1e1d602",
   "metadata": {},
   "outputs": [
    {
     "data": {
      "text/plain": [
       "False"
      ]
     },
     "execution_count": 30,
     "metadata": {},
     "output_type": "execute_result"
    }
   ],
   "source": [
    "a=1\n",
    "b=5\n",
    "c=2\n",
    "d=1\n",
    "a==b # a é igual a b ?"
   ]
  },
  {
   "cell_type": "code",
   "execution_count": 31,
   "id": "934ad370-4cab-433d-8e3f-c3f4f4ddfb2e",
   "metadata": {},
   "outputs": [
    {
     "data": {
      "text/plain": [
       "True"
      ]
     },
     "execution_count": 31,
     "metadata": {},
     "output_type": "execute_result"
    }
   ],
   "source": [
    "b>a # b é Maior que a?"
   ]
  },
  {
   "cell_type": "code",
   "execution_count": 32,
   "id": "b00ec224-6502-4f2e-b241-4fbec8a5c045",
   "metadata": {},
   "outputs": [
    {
     "data": {
      "text/plain": [
       "True"
      ]
     },
     "execution_count": 32,
     "metadata": {},
     "output_type": "execute_result"
    }
   ],
   "source": [
    "a<b # a é Menor que b?"
   ]
  },
  {
   "cell_type": "code",
   "execution_count": 33,
   "id": "9f70175a-3ab7-403e-a659-872223ece36a",
   "metadata": {},
   "outputs": [
    {
     "data": {
      "text/plain": [
       "True"
      ]
     },
     "execution_count": 33,
     "metadata": {},
     "output_type": "execute_result"
    }
   ],
   "source": [
    "a==d # a é igual a d?"
   ]
  },
  {
   "cell_type": "code",
   "execution_count": 34,
   "id": "efbfe60f-cc40-412c-bce5-84a591081c91",
   "metadata": {},
   "outputs": [
    {
     "data": {
      "text/plain": [
       "True"
      ]
     },
     "execution_count": 34,
     "metadata": {},
     "output_type": "execute_result"
    }
   ],
   "source": [
    "b>=a # b é Maior ou igual a a?"
   ]
  },
  {
   "cell_type": "code",
   "execution_count": 35,
   "id": "ed7d6fe6-77f6-418f-b01a-5bcaf795d010",
   "metadata": {},
   "outputs": [
    {
     "data": {
      "text/plain": [
       "True"
      ]
     },
     "execution_count": 35,
     "metadata": {},
     "output_type": "execute_result"
    }
   ],
   "source": [
    "c<=b # c é Menor ou igual a b?"
   ]
  },
  {
   "cell_type": "code",
   "execution_count": 36,
   "id": "52760bc9-1505-43e5-b0f6-df5c1ff47d85",
   "metadata": {},
   "outputs": [
    {
     "data": {
      "text/plain": [
       "False"
      ]
     },
     "execution_count": 36,
     "metadata": {},
     "output_type": "execute_result"
    }
   ],
   "source": [
    "d!=a # d é diferente de a?"
   ]
  },
  {
   "cell_type": "code",
   "execution_count": 38,
   "id": "8fe00983-25b7-45c4-93e8-3a34396c1ef9",
   "metadata": {},
   "outputs": [
    {
     "data": {
      "text/plain": [
       "True"
      ]
     },
     "execution_count": 38,
     "metadata": {},
     "output_type": "execute_result"
    }
   ],
   "source": [
    "d!=b # d é diferente de b?"
   ]
  },
  {
   "cell_type": "code",
   "execution_count": 3,
   "id": "bcb02059-ca13-4554-a937-0895e33ab38a",
   "metadata": {},
   "outputs": [
    {
     "name": "stdin",
     "output_type": "stream",
     "text": [
      "Digite o salario: 1000\n"
     ]
    },
    {
     "name": "stdout",
     "output_type": "stream",
     "text": [
      "Nao_paga_imposto\n"
     ]
    }
   ],
   "source": [
    "#Exercício 3.4 Escreva uma expressão para determinar se uma pessoa deve ou não pagar imposto.\n",
    "#Considere que pagam imposto pessoas cujo salário é maior que R$ 1.200,00.\n",
    "Salario=float(input(\"Digite o salario:\"))\n",
    "Imposto=1200.0\n",
    "if Salario>=Imposto:\n",
    "    print(\"Paga_Imposto\")\n",
    "else:\n",
    "    print(\"Nao_paga_imposto\")"
   ]
  },
  {
   "cell_type": "code",
   "execution_count": 4,
   "id": "59766276-c80f-4723-b8fa-8d556f3e33f0",
   "metadata": {},
   "outputs": [
    {
     "name": "stdin",
     "output_type": "stream",
     "text": [
      "Digite o salario: 1200\n"
     ]
    },
    {
     "name": "stdout",
     "output_type": "stream",
     "text": [
      "Paga_Imposto\n"
     ]
    }
   ],
   "source": [
    "#Exercício 3.4 Escreva uma expressão para determinar se uma pessoa deve ou não pagar imposto.\n",
    "#Considere que pagam imposto pessoas cujo salário é maior que R$ 1.200,00.\n",
    "Salario=float(input(\"Digite o salario:\"))\n",
    "Imposto=1200.0\n",
    "if Salario>=Imposto:\n",
    "    print(\"Paga_Imposto\")\n",
    "else:\n",
    "    print(\"Nao_paga_imposto\")"
   ]
  },
  {
   "cell_type": "code",
   "execution_count": 5,
   "id": "ff78c2d7-d46d-4b8b-8351-773c947ff889",
   "metadata": {},
   "outputs": [
    {
     "name": "stdin",
     "output_type": "stream",
     "text": [
      "Digite o salario: 1300\n"
     ]
    },
    {
     "name": "stdout",
     "output_type": "stream",
     "text": [
      "Paga_Imposto\n"
     ]
    }
   ],
   "source": [
    "#Exercício 3.4 Escreva uma expressão para determinar se uma pessoa deve ou não pagar imposto.\n",
    "#Considere que pagam imposto pessoas cujo salário é maior que R$ 1.200,00.\n",
    "Salario=float(input(\"Digite o salario:\"))\n",
    "Imposto=1200.0\n",
    "if Salario>=Imposto:\n",
    "    print(\"Paga_Imposto\")\n",
    "else:\n",
    "    print(\"Nao_paga_imposto\")"
   ]
  },
  {
   "cell_type": "code",
   "execution_count": 5,
   "id": "8d8f755f-5e56-4097-b007-c262f349a1d2",
   "metadata": {},
   "outputs": [
    {
     "name": "stdin",
     "output_type": "stream",
     "text": [
      "Digite o salario: 1300\n"
     ]
    },
    {
     "name": "stdout",
     "output_type": "stream",
     "text": [
      "Paga_Imposto\n"
     ]
    }
   ],
   "source": [
    "#Exercício 3.4 Escreva uma expressão para determinar se uma pessoa deve ou não pagar imposto.\n",
    "#Considere que pagam imposto pessoas cujo salário é maior que R$ 1.200,00.\n",
    "Salario=float(input(\"Digite o salario:\"))\n",
    "Imposto=1200.0\n",
    "if Salario>=Imposto:\n",
    "    print(\"Paga_Imposto\")\n",
    "else:\n",
    "    print(\"Nao_paga_imposto\")"
   ]
  },
  {
   "cell_type": "code",
   "execution_count": 5,
   "id": "db1fe809-9770-4173-a655-ecdddb8313af",
   "metadata": {},
   "outputs": [
    {
     "name": "stdin",
     "output_type": "stream",
     "text": [
      "Digite o salario: 1300\n"
     ]
    },
    {
     "name": "stdout",
     "output_type": "stream",
     "text": [
      "Paga_Imposto\n"
     ]
    }
   ],
   "source": [
    "#Exercício 3.4 Escreva uma expressão para determinar se uma pessoa deve ou não pagar imposto.\n",
    "#Considere que pagam imposto pessoas cujo salário é maior que R$ 1.200,00.\n",
    "Salario=float(input(\"Digite o salario:\"))\n",
    "Imposto=1200.0\n",
    "if Salario>=Imposto:\n",
    "    print(\"Paga_Imposto\")\n",
    "else:\n",
    "    print(\"Nao_paga_imposto\")"
   ]
  },
  {
   "cell_type": "code",
   "execution_count": 5,
   "id": "6f64242e-93b4-45be-a77f-c04f4ca5d841",
   "metadata": {},
   "outputs": [
    {
     "name": "stdin",
     "output_type": "stream",
     "text": [
      "Digite o salario: 1300\n"
     ]
    },
    {
     "name": "stdout",
     "output_type": "stream",
     "text": [
      "Paga_Imposto\n"
     ]
    }
   ],
   "source": [
    "#Exercício 3.4 Escreva uma expressão para determinar se uma pessoa deve ou não pagar imposto.\n",
    "#Considere que pagam imposto pessoas cujo salário é maior que R$ 1.200,00.\n",
    "Salario=float(input(\"Digite o salario:\"))\n",
    "Imposto=1200.0\n",
    "if Salario>=Imposto:\n",
    "    print(\"Paga_Imposto\")\n",
    "else:\n",
    "    print(\"Nao_paga_imposto\")"
   ]
  },
  {
   "cell_type": "code",
   "execution_count": 5,
   "id": "33c24c65-d5b8-40e8-9069-384e627964fb",
   "metadata": {},
   "outputs": [
    {
     "name": "stdin",
     "output_type": "stream",
     "text": [
      "Digite o salario: 1300\n"
     ]
    },
    {
     "name": "stdout",
     "output_type": "stream",
     "text": [
      "Paga_Imposto\n"
     ]
    }
   ],
   "source": [
    "#Exercício 3.4 Escreva uma expressão para determinar se uma pessoa deve ou não pagar imposto.\n",
    "#Considere que pagam imposto pessoas cujo salário é maior que R$ 1.200,00.\n",
    "Salario=float(input(\"Digite o salario:\"))\n",
    "Imposto=1200.0\n",
    "if Salario>=Imposto:\n",
    "    print(\"Paga_Imposto\")\n",
    "else:\n",
    "    print(\"Nao_paga_imposto\")"
   ]
  },
  {
   "cell_type": "code",
   "execution_count": 5,
   "id": "30df8e8a-aa34-4063-ac13-d5a8cc542fdc",
   "metadata": {},
   "outputs": [
    {
     "name": "stdin",
     "output_type": "stream",
     "text": [
      "Digite o salario: 1300\n"
     ]
    },
    {
     "name": "stdout",
     "output_type": "stream",
     "text": [
      "Paga_Imposto\n"
     ]
    }
   ],
   "source": [
    "#Exercício 3.4 Escreva uma expressão para determinar se uma pessoa deve ou não pagar imposto.\n",
    "#Considere que pagam imposto pessoas cujo salário é maior que R$ 1.200,00.\n",
    "Salario=float(input(\"Digite o salario:\"))\n",
    "Imposto=1200.0\n",
    "if Salario>=Imposto:\n",
    "    print(\"Paga_Imposto\")\n",
    "else:\n",
    "    print(\"Nao_paga_imposto\")"
   ]
  },
  {
   "cell_type": "code",
   "execution_count": 5,
   "id": "4452fa8c-4b38-4086-aaa6-70342f03aada",
   "metadata": {},
   "outputs": [
    {
     "name": "stdin",
     "output_type": "stream",
     "text": [
      "Digite o salario: 1300\n"
     ]
    },
    {
     "name": "stdout",
     "output_type": "stream",
     "text": [
      "Paga_Imposto\n"
     ]
    }
   ],
   "source": [
    "#Exercício 3.4 Escreva uma expressão para determinar se uma pessoa deve ou não pagar imposto.\n",
    "#Considere que pagam imposto pessoas cujo salário é maior que R$ 1.200,00.\n",
    "Salario=float(input(\"Digite o salario:\"))\n",
    "Imposto=1200.0\n",
    "if Salario>=Imposto:\n",
    "    print(\"Paga_Imposto\")\n",
    "else:\n",
    "    print(\"Nao_paga_imposto\")"
   ]
  },
  {
   "cell_type": "code",
   "execution_count": 5,
   "id": "7a5ddd7a-d99b-4262-99d8-784e528dc3bd",
   "metadata": {},
   "outputs": [
    {
     "name": "stdin",
     "output_type": "stream",
     "text": [
      "Digite o salario: 1300\n"
     ]
    },
    {
     "name": "stdout",
     "output_type": "stream",
     "text": [
      "Paga_Imposto\n"
     ]
    }
   ],
   "source": [
    "#Exercício 3.4 Escreva uma expressão para determinar se uma pessoa deve ou não pagar imposto.\n",
    "#Considere que pagam imposto pessoas cujo salário é maior que R$ 1.200,00.\n",
    "Salario=float(input(\"Digite o salario:\"))\n",
    "Imposto=1200.0\n",
    "if Salario>=Imposto:\n",
    "    print(\"Paga_Imposto\")\n",
    "else:\n",
    "    print(\"Nao_paga_imposto\")"
   ]
  },
  {
   "cell_type": "code",
   "execution_count": 5,
   "id": "89270b74-dd03-4cb1-ac29-da2fa77e3144",
   "metadata": {},
   "outputs": [
    {
     "name": "stdin",
     "output_type": "stream",
     "text": [
      "Digite o salario: 1300\n"
     ]
    },
    {
     "name": "stdout",
     "output_type": "stream",
     "text": [
      "Paga_Imposto\n"
     ]
    }
   ],
   "source": [
    "#Exercício 3.4 Escreva uma expressão para determinar se uma pessoa deve ou não pagar imposto.\n",
    "#Considere que pagam imposto pessoas cujo salário é maior que R$ 1.200,00.\n",
    "Salario=float(input(\"Digite o salario:\"))\n",
    "Imposto=1200.0\n",
    "if Salario>=Imposto:\n",
    "    print(\"Paga_Imposto\")\n",
    "else:\n",
    "    print(\"Nao_paga_imposto\")"
   ]
  },
  {
   "cell_type": "code",
   "execution_count": 1,
   "id": "5af2fd48-ef02-4ced-be1c-9a37451be70c",
   "metadata": {},
   "outputs": [
    {
     "name": "stdout",
     "output_type": "stream",
     "text": [
      "5\n"
     ]
    }
   ],
   "source": [
    "#Conceitos de variáveis e atribuição\n",
    "a=2\n",
    "b=3\n",
    "print(a+b)"
   ]
  },
  {
   "cell_type": "code",
   "execution_count": 3,
   "id": "649d3188-c355-43e3-89ba-93592de782ae",
   "metadata": {},
   "outputs": [
    {
     "name": "stdin",
     "output_type": "stream",
     "text": [
      "Digite um numero intreiro X: 3\n",
      "Digite um numero inteiro Y: 4\n"
     ]
    },
    {
     "name": "stdout",
     "output_type": "stream",
     "text": [
      "3\n",
      "4\n",
      "7\n"
     ]
    }
   ],
   "source": [
    "#Exercício 3.7 Faça um programa que peça dois números inteiros. Imprima a soma desses dois números na tela.\n",
    "X=int(input(\"Digite um numero intreiro X:\"))\n",
    "Y=int(input(\"Digite um numero inteiro Y:\"))\n",
    "print (X)\n",
    "print (Y)\n",
    "print (X+Y)"
   ]
  },
  {
   "cell_type": "code",
   "execution_count": 10,
   "id": "a9e7be6f-6785-45de-b04a-b37630663777",
   "metadata": {},
   "outputs": [
    {
     "name": "stdout",
     "output_type": "stream",
     "text": [
      "Conversor de Metros para milimetro\n"
     ]
    },
    {
     "name": "stdin",
     "output_type": "stream",
     "text": [
      "Digite o valor em metros m: 5\n"
     ]
    },
    {
     "name": "stdout",
     "output_type": "stream",
     "text": [
      "a medida é 5m\n",
      "o valor convertido é de 5000mm\n"
     ]
    }
   ],
   "source": [
    "#Exercício 3.8 Escreva um programa que leia um valor em metros e o exiba convertido em milímetros.\n",
    "print (\"Conversor de Metros para milimetro\")\n",
    "m=int(input(\"Digite o valor em metros:\"))\n",
    "print(f\"a medida é {m}\" \"m\")\n",
    "mm=(m*1000)\n",
    "print (f\"o valor convertido é de {mm}\"\"mm\")"
   ]
  },
  {
   "cell_type": "code",
   "execution_count": 12,
   "id": "a6320e11-7873-4c13-af83-06206c28ac52",
   "metadata": {},
   "outputs": [
    {
     "name": "stdin",
     "output_type": "stream",
     "text": [
      "Digite a quantidade de dias: 0\n",
      "Digite a quantidade de horas: 1\n",
      "Digite a quantidade de minutos: 1\n",
      "Digite a quantidade de segundos: 60\n"
     ]
    },
    {
     "name": "stdout",
     "output_type": "stream",
     "text": [
      "O total em segundos é 3720s\n"
     ]
    }
   ],
   "source": [
    "#Exercício 3.9 Escreva um programa que leia a quantidade de dias, horas, minutos e segundos do usuário. Calcule o total em segundos.\n",
    "dias=int(input(\"Digite a quantidade de dias:\"))\n",
    "horas=int(input(\"Digite a quantidade de horas:\"))\n",
    "minutos=int(input(\"Digite a quantidade de minutos:\"))\n",
    "segundos=int(input(\"Digite a quantidade de segundos:\"))\n",
    "total_segundos=(dias*24*3600)+(horas*3600)+(minutos*60)+segundos\n",
    "print(f\"O total em segundos é {total_segundos}\"\"s\")"
   ]
  },
  {
   "cell_type": "code",
   "execution_count": 13,
   "id": "a579c991-0f20-4497-beb4-3ae56db8b6bb",
   "metadata": {},
   "outputs": [
    {
     "name": "stdout",
     "output_type": "stream",
     "text": [
      "Calculo de Aumento de Salário\n"
     ]
    },
    {
     "name": "stdin",
     "output_type": "stream",
     "text": [
      "Digite o valor do Salário: 1000\n",
      "Digite o valor do percentual de aumento: 50\n"
     ]
    },
    {
     "name": "stdout",
     "output_type": "stream",
     "text": [
      "O aumento é de 500.0Reais\n",
      "O novo Salário é de 1500.0Reais\n"
     ]
    }
   ],
   "source": [
    "#Exercício 3.10 Faça um programa que calcule o aumento de um salário.\n",
    "#Ele deve solicitar o valor do salário e a porcentagem do aumento.\n",
    "#Exiba o valor do aumento e do novo salário.\n",
    "print (\"Calculo de Aumento de Salário\")\n",
    "sal=int(input(\"Digite o valor do Salário:\"))\n",
    "perc=int(input(\"Digite o valor do percentual de aumento:\"))\n",
    "aumento=(sal*perc/100)\n",
    "print(f\"O aumento é de {aumento}\" \"Reais\")\n",
    "novo_salario=(sal + (sal*perc/100))\n",
    "print (f\"O novo Salário é de {novo_salario}\"\"Reais\")"
   ]
  },
  {
   "cell_type": "code",
   "execution_count": 21,
   "id": "2edb406f-93a8-4454-8679-674b207ca3e5",
   "metadata": {},
   "outputs": [
    {
     "name": "stdout",
     "output_type": "stream",
     "text": [
      "Calculo de Desconto em mercadoria\n"
     ]
    },
    {
     "name": "stdin",
     "output_type": "stream",
     "text": [
      "Digite o preço da mercadoria: 100\n",
      "Digite o valor do percentual de desconto: 5\n"
     ]
    },
    {
     "name": "stdout",
     "output_type": "stream",
     "text": [
      "O desconto é de R$5.0\n",
      "O valor final de venda é de R$95.0\n"
     ]
    }
   ],
   "source": [
    "#Exercício 3.11 Faça um programa que solicite o preço de uma mercadoria e o percentual de desconto.\n",
    "#Exiba o valor do desconto e o preço a pagar.\n",
    "print (\"Calculo de Desconto em mercadoria\")\n",
    "valor=float(input(\"Digite o preço da mercadoria:\"))\n",
    "desc=float(input(\"Digite o valor do percentual de desconto:\"))\n",
    "desconto=(valor*desc/100)\n",
    "print(f\"O desconto é de R${desconto}\")\n",
    "preco_final=(valor-valor*desc/100)\n",
    "print(f\"O valor final de venda é de R${preco_final}\")"
   ]
  },
  {
   "cell_type": "code",
   "execution_count": 25,
   "id": "e9f0fcae-cde9-42ac-b28f-9ea533a914d6",
   "metadata": {},
   "outputs": [
    {
     "name": "stdout",
     "output_type": "stream",
     "text": [
      "Calculo de Tempo médio de viagem\n"
     ]
    },
    {
     "name": "stdin",
     "output_type": "stream",
     "text": [
      "Digite a distancia a ser percorrida em (Km): 340\n",
      "Digite a velocidade média estimada para aviagem em (Km/h): 80\n"
     ]
    },
    {
     "name": "stdout",
     "output_type": "stream",
     "text": [
      "O tempo estimado de viagem é de 4.25horas\n"
     ]
    }
   ],
   "source": [
    "#Exercício 3.12 Escreva um programa que calcule o tempo de uma viagem de carro.\n",
    "#Pergunte a distância a percorrer e a velocidade média esperada para a viagem.\n",
    "print (\"Calculo de Tempo médio de viagem\")\n",
    "dist=float(input(\"Digite a distancia a ser percorrida em (Km):\"))\n",
    "vel=float(input(\"Digite a velocidade média estimada para aviagem em (Km/h):\"))\n",
    "tempo=(dist/vel)\n",
    "print(f\"O tempo estimado de viagem é de {tempo}\" \"horas\")"
   ]
  },
  {
   "cell_type": "code",
   "execution_count": 28,
   "id": "89a162b3-06a8-42fd-980e-f6bbe4254045",
   "metadata": {},
   "outputs": [
    {
     "name": "stdout",
     "output_type": "stream",
     "text": [
      "Conversão de Temperaturas - °C para °F\n"
     ]
    },
    {
     "name": "stdin",
     "output_type": "stream",
     "text": [
      "Digite a temperatura em °C: 0\n"
     ]
    },
    {
     "name": "stdout",
     "output_type": "stream",
     "text": [
      "A Temperatura em °F é de 32.0\n"
     ]
    }
   ],
   "source": [
    "#Exercício 3.13 Escreva um programa que converta uma temperatura digitada em °C em °F.\n",
    "#A fórmula para essa conversão é: F = ((9XC)/2) +32\n",
    "print (\"Conversão de Temperaturas - °C para °F\")\n",
    "C=float(input(\"Digite a temperatura em °C:\"))\n",
    "F=((9*C/2)+32)\n",
    "print(f\"A Temperatura em °F é de {F}\")"
   ]
  },
  {
   "cell_type": "code",
   "execution_count": 29,
   "id": "cd04e054-2403-4b20-a225-76be4abd1a21",
   "metadata": {},
   "outputs": [
    {
     "name": "stdout",
     "output_type": "stream",
     "text": [
      "Conversão de Temperaturas - °F para °C\n"
     ]
    },
    {
     "name": "stdin",
     "output_type": "stream",
     "text": [
      "Digite a temperatura em °F: 32\n"
     ]
    },
    {
     "name": "stdout",
     "output_type": "stream",
     "text": [
      "A Temperatura em °C é de 0.0\n"
     ]
    }
   ],
   "source": [
    "#Exercício 3.13B Escreva um programa que converta uma temperatura digitada em °F em °C.\n",
    "#A fórmula para essa conversão é: C = (F-32)*2/9\n",
    "print (\"Conversão de Temperaturas - °F para °C\")\n",
    "F=float(input(\"Digite a temperatura em °F:\"))\n",
    "C=(F-32)*2/9\n",
    "print(f\"A Temperatura em °C é de {C}\")"
   ]
  },
  {
   "cell_type": "code",
   "execution_count": 31,
   "id": "a5cb93bf-622a-418c-86be-e77f856bb144",
   "metadata": {},
   "outputs": [
    {
     "name": "stdout",
     "output_type": "stream",
     "text": [
      "Calculo do Valor do Aluguel de Veículo\n"
     ]
    },
    {
     "name": "stdin",
     "output_type": "stream",
     "text": [
      "Qual foi aquilometragem percorrida? 500\n",
      "Quantos dias você ficou com o veículo? 5\n"
     ]
    },
    {
     "name": "stdout",
     "output_type": "stream",
     "text": [
      "O preço a pagar pelo aluguel do veículo é de R$375.0\n"
     ]
    }
   ],
   "source": [
    "#Exercício 3.14 Escreva um programa que pergunte a quantidade de km percorridos por um carro alugado pelo usuário,\n",
    "#assim como a quantidade de dias pelos quais o carro foi alugado.\n",
    "#Calcule o preço a pagar, sabendo que o carro custa R$ 60 por dia e R$ 0,15 por km rodado.\n",
    "print (\"Calculo do Valor do Aluguel de Veículo\")\n",
    "KM=float(input(\"Qual foi aquilometragem percorrida?\"))\n",
    "Dias=float(input(\"Quantos dias você ficou com o veículo?\"))\n",
    "diarias=(Dias*60 + KM*0.15)\n",
    "print(f\"O preço a pagar pelo aluguel do veículo é de R${diarias}\") "
   ]
  },
  {
   "cell_type": "code",
   "execution_count": 36,
   "id": "2ac3f57c-0f92-4840-8cdb-a7e110399ace",
   "metadata": {},
   "outputs": [
    {
     "name": "stdin",
     "output_type": "stream",
     "text": [
      "Digite a quantidade de cigarros fumados por dia:  20\n",
      "Digite há quantos anos você fuma:  20\n"
     ]
    },
    {
     "name": "stdout",
     "output_type": "stream",
     "text": [
      "Até hoje, você já fumou 146000 cigarros\n",
      "A estimativa é de que você já perdeu 1014 dias de vida.\n",
      "O que resulta em 3 anos a menos de vida.\n"
     ]
    }
   ],
   "source": [
    "#Exercício 3.15 Escreva um programa para calcular a redução do tempo de vida de um fumante.\n",
    "#Pergunte a quantidade de cigarros fumados por dia e quantos anos ele já fumou.\n",
    "#Considere que um fumante perde 10 minutos de vida a cada cigarro, e calcule quantos dias de vida um fumante perderá.\n",
    "#Exiba o total em dias.\n",
    "cigarros_por_dia=int(input(\"Digite a quantidade de cigarros fumados por dia: \"))\n",
    "anos_fumando=int(input(\"Digite há quantos anos você fuma: \"))\n",
    "total_cigarros_ano=cigarros_por_dia * 365 # Calcula o total de cigarros fumados por ano\n",
    "total_cigarros_fumados=total_cigarros_ano * anos_fumando # Calcula o total de cigarros fumados an vida\n",
    "print(f\"Até hoje, você já fumou {total_cigarros_fumados} cigarros\")\n",
    "minutos_perdidos=total_cigarros_fumados * 10 #Calcula a quantidade de minutos perdidos\n",
    "dias_perdidos = minutos_perdidos/(24*60) #Conversão de minutos para dias perdidos\n",
    "anos_perdidos = dias_perdidos/365 #Conversão de dias para anos perdidos\n",
    "print(\"A estimativa é de que você já perdeu\", round(dias_perdidos),\"dias de vida.\")\n",
    "print(\"O que resulta em\", round(anos_perdidos), \"anos a menos de vida.\")"
   ]
  },
  {
   "cell_type": "code",
   "execution_count": null,
   "id": "330714c9-e368-400b-8d5a-f8483138f53c",
   "metadata": {},
   "outputs": [],
   "source": []
  }
 ],
 "metadata": {
  "kernelspec": {
   "display_name": "Python 3 (ipykernel)",
   "language": "python",
   "name": "python3"
  },
  "language_info": {
   "codemirror_mode": {
    "name": "ipython",
    "version": 3
   },
   "file_extension": ".py",
   "mimetype": "text/x-python",
   "name": "python",
   "nbconvert_exporter": "python",
   "pygments_lexer": "ipython3",
   "version": "3.12.7"
  }
 },
 "nbformat": 4,
 "nbformat_minor": 5
}
