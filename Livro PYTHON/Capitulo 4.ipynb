{
 "cells": [
  {
   "cell_type": "code",
   "execution_count": 3,
   "id": "0c771c80-0ade-4650-adc8-82516b375ee4",
   "metadata": {},
   "outputs": [
    {
     "name": "stdin",
     "output_type": "stream",
     "text": [
      "Primeiro valor:  23\n",
      "Segundo valor:  33\n"
     ]
    },
    {
     "name": "stdout",
     "output_type": "stream",
     "text": [
      "O segundo valor é o Maior!\n"
     ]
    }
   ],
   "source": [
    "# Programa 4.1 - Lê dois valores e imprime qual é o maior\n",
    "a = int(input( \"Primeiro valor: \"))\n",
    "b = int(input( \"Segundo valor: \"))\n",
    "if a > b:\n",
    "    print( \"O primeiro valor é o Maior!\")\n",
    "if b > a:\n",
    "    print(\"O segundo valor é o Maior!\")"
   ]
  },
  {
   "cell_type": "code",
   "execution_count": 4,
   "id": "f27a41a5-7cd6-46df-a1af-4f61f0397039",
   "metadata": {},
   "outputs": [
    {
     "name": "stdin",
     "output_type": "stream",
     "text": [
      "Primeiro valor:  33\n",
      "Segundo valor:  21\n"
     ]
    },
    {
     "name": "stdout",
     "output_type": "stream",
     "text": [
      "O primeiro valor é o Maior!\n"
     ]
    }
   ],
   "source": [
    "# Programa 4.1 - Lê dois valores e imprime qual é o maior\n",
    "a = int(input( \"Primeiro valor: \"))\n",
    "b = int(input( \"Segundo valor: \"))\n",
    "if a > b:\n",
    "    print( \"O primeiro valor é o Maior!\")\n",
    "if b > a:\n",
    "    print(\"O segundo valor é o Maior!\")"
   ]
  },
  {
   "cell_type": "code",
   "execution_count": 6,
   "id": "c08ffe7d-437f-4c4d-849f-0f8bc923e8c5",
   "metadata": {},
   "outputs": [
    {
     "name": "stdin",
     "output_type": "stream",
     "text": [
      "Primeiro valor:  252\n",
      "Segundo valor:  252\n"
     ]
    },
    {
     "name": "stdout",
     "output_type": "stream",
     "text": [
      "Os valores são iguais\n"
     ]
    }
   ],
   "source": [
    "#Exercício 4.1 Analise o Programa 4.1. Responda o que acontece se o primeiro e o segundo valores forem iguais? Explique.\n",
    "a = int(input( \"Primeiro valor: \"))\n",
    "b = int(input( \"Segundo valor: \"))\n",
    "if a > b:\n",
    "    print( \"O primeiro valor é o Maior!\")\n",
    "if b > a:\n",
    "    print(\"O segundo valor é o Maior!\")\n",
    "if a==b:\n",
    "    print(\"Os valores são iguais\")"
   ]
  },
  {
   "cell_type": "code",
   "execution_count": 10,
   "id": "830020d7-4801-4419-a9d9-62fa2e03028f",
   "metadata": {},
   "outputs": [
    {
     "name": "stdin",
     "output_type": "stream",
     "text": [
      "Qual a velocidade do veículo?  40\n"
     ]
    },
    {
     "name": "stdout",
     "output_type": "stream",
     "text": [
      "Seu veículo não foi multado!\n"
     ]
    }
   ],
   "source": [
    "# Exercício 4.2 Escreva um programa que pergunte a velocidade do carro de um usuário.\n",
    "# Caso ultrapasse 80 km/h, exiba uma mensagem dizendo que o usuário foi multado.\n",
    "# Nesse caso, exiba o valor da multa, cobrando R$ 5 por km acima de 80 km/h.\n",
    "V = float(input( \"Qual a velocidade do veículo? \"))\n",
    "if V<80:\n",
    "    print( \"Seu veículo não foi multado!\")\n",
    "if V==80:\n",
    "    print( \"Seu veículo foi multado!\")\n",
    "    multa1=5\n",
    "    print(\"O valor da Multa é R$\",round (multa1))\n",
    "if V > 80:\n",
    "    print( \"Seu veículo foi multado em R$5,00 por Km acima de 80Km/h!\")\n",
    "    multa2=((V-80)*5)\n",
    "    print(\"O valor da Multa é R$\",round (multa2))"
   ]
  },
  {
   "cell_type": "code",
   "execution_count": 9,
   "id": "ac80057c-a782-43a9-80d7-c1451aa60cba",
   "metadata": {},
   "outputs": [
    {
     "name": "stdin",
     "output_type": "stream",
     "text": [
      "Qual a velocidade do veículo?  80\n"
     ]
    },
    {
     "name": "stdout",
     "output_type": "stream",
     "text": [
      "Seu veículo foi multado!\n",
      "O valor da Multa é R$ 5\n"
     ]
    }
   ],
   "source": [
    "V = float(input( \"Qual a velocidade do veículo? \"))\n",
    "if V<80:\n",
    "    print( \"Seu veículo não foi multado!\")\n",
    "if V==80:\n",
    "    print( \"Seu veículo foi multado!\")\n",
    "    multa1=5\n",
    "    print(\"O valor da Multa é R$\",round (multa1))\n",
    "if V > 80:\n",
    "    print( \"Seu veículo foi multado em R$5,00 por Km acima de 80Km/h!\")\n",
    "    multa2=((V-80)*5)\n",
    "    print(\"O valor da Multa é R$\",round (multa2))"
   ]
  },
  {
   "cell_type": "code",
   "execution_count": 13,
   "id": "60665825-977d-468b-ad7f-62a658416a75",
   "metadata": {},
   "outputs": [
    {
     "name": "stdin",
     "output_type": "stream",
     "text": [
      "Qual a velocidade do veículo?  90\n"
     ]
    },
    {
     "name": "stdout",
     "output_type": "stream",
     "text": [
      "Seu veículo foi multado em R$5,00 por Km acima de 80Km/h!\n",
      "O valor da Multa é R$ 50 ,00\n"
     ]
    }
   ],
   "source": [
    "V = float(input( \"Qual a velocidade do veículo? \"))\n",
    "if V<80:\n",
    "    print( \"Seu veículo não foi multado!\")\n",
    "if V==80:\n",
    "    print( \"Seu veículo foi multado!\")\n",
    "    multa1=5\n",
    "    print(\"O valor da Multa é R$\",round (multa1))\n",
    "if V > 80:\n",
    "    print( \"Seu veículo foi multado em R$5,00 por Km acima de 80Km/h!\")\n",
    "    multa2=((V-80)*5)\n",
    "    print(\"O valor da Multa é R$\",round(multa2),\",00\")"
   ]
  },
  {
   "cell_type": "code",
   "execution_count": 17,
   "id": "7f39f2b9-e898-4a9a-a00a-34131da56815",
   "metadata": {},
   "outputs": [
    {
     "name": "stdin",
     "output_type": "stream",
     "text": [
      "Digite o salário para cálculo do imposto: 1000\n"
     ]
    },
    {
     "name": "stdout",
     "output_type": "stream",
     "text": [
      "Salário: R$1000.00 Imposto a pagar:R$  0.00\n"
     ]
    }
   ],
   "source": [
    "#Cálculo do Imposto de renda\n",
    "sal=float(input(\"Digite o salário para cálculo do imposto:\"))\n",
    "base=sal\n",
    "imposto=0\n",
    "if base>3000:\n",
    "    imposto = imposto + ((base-3000)*0.35)\n",
    "    base=3000\n",
    "if base>1000:\n",
    "    imposto = imposto + ((base-1000)*0.20)\n",
    "print(f\"Salário: R${sal:6.2f} Imposto a pagar:R${imposto:6.2f}\")"
   ]
  },
  {
   "cell_type": "code",
   "execution_count": 16,
   "id": "13adf327-afd1-4f99-b95c-b16c8225d087",
   "metadata": {},
   "outputs": [
    {
     "name": "stdin",
     "output_type": "stream",
     "text": [
      "Digite o salário para cálculo do imposto: 2000\n"
     ]
    },
    {
     "name": "stdout",
     "output_type": "stream",
     "text": [
      "Salario: R$2000.00 Imposto a pagar:R$200.00\n"
     ]
    }
   ],
   "source": [
    "#Cálculo do Imposto de renda\n",
    "sal=float(input(\"Digite o salário para cálculo do imposto:\"))\n",
    "base=sal\n",
    "imposto=0\n",
    "if base>3000:\n",
    "    imposto = imposto + ((base-3000)*0.35)\n",
    "    base=3000\n",
    "if base>1000:\n",
    "    imposto = imposto + ((base-1000)*0.20)\n",
    "print(f\"Salário: R${sal:6.2f} Imposto a pagar:R${imposto:6.2f}\")"
   ]
  },
  {
   "cell_type": "code",
   "execution_count": 19,
   "id": "2ef3b41b-5725-42c0-b481-02f8ea6156e3",
   "metadata": {},
   "outputs": [
    {
     "name": "stdin",
     "output_type": "stream",
     "text": [
      "Digite o salário para cálculo do imposto: 3000\n"
     ]
    },
    {
     "name": "stdout",
     "output_type": "stream",
     "text": [
      "Salário: R$3000.00 Imposto a pagar:R$400.00\n"
     ]
    }
   ],
   "source": [
    "sal=float(input(\"Digite o salário para cálculo do imposto:\"))\n",
    "base=sal\n",
    "imposto=0\n",
    "if base>3000:\n",
    "    imposto = imposto + ((base-3000)*0.35)\n",
    "    base=3000\n",
    "if base>1000:\n",
    "    imposto = imposto + ((base-1000)*0.20)\n",
    "print(f\"Salário: R${sal:6.2f} Imposto a pagar:R${imposto:6.2f}\")"
   ]
  },
  {
   "cell_type": "code",
   "execution_count": 20,
   "id": "99923711-e94d-4091-907e-8194f186d1bd",
   "metadata": {},
   "outputs": [
    {
     "name": "stdin",
     "output_type": "stream",
     "text": [
      " Digite a idade de seu carro:  5\n"
     ]
    },
    {
     "name": "stdout",
     "output_type": "stream",
     "text": [
      "Seu carro é velho \n"
     ]
    }
   ],
   "source": [
    "# Programa 4.4 - Carro novo ou velho, dependendo da idade COM else\n",
    "idade= int (input (\" Digite a idade de seu carro: \"))\n",
    "if idade<=3:\n",
    "    print( \"Seu carro é novo \")\n",
    "else:\n",
    "    print( \"Seu carro é velho \")"
   ]
  },
  {
   "cell_type": "code",
   "execution_count": 21,
   "id": "09fa480c-5aca-42a8-9ebb-4c24cdbf6468",
   "metadata": {},
   "outputs": [
    {
     "name": "stdin",
     "output_type": "stream",
     "text": [
      " Digite a idade de seu carro:  1\n"
     ]
    },
    {
     "name": "stdout",
     "output_type": "stream",
     "text": [
      "Seu carro é novo \n"
     ]
    }
   ],
   "source": [
    "idade= int (input (\" Digite a idade de seu carro: \"))\n",
    "if idade<=3:\n",
    "    print( \"Seu carro é novo \")\n",
    "else:\n",
    "    print( \"Seu carro é velho \")"
   ]
  },
  {
   "cell_type": "code",
   "execution_count": 23,
   "id": "15275233-4957-4ea5-8649-4b5bdf808c08",
   "metadata": {},
   "outputs": [
    {
     "name": "stdin",
     "output_type": "stream",
     "text": [
      "Qual a distancia em Km que pretende viajar?  190\n"
     ]
    },
    {
     "name": "stdout",
     "output_type": "stream",
     "text": [
      "O valor da passagem é de R$ 95\n"
     ]
    }
   ],
   "source": [
    "# Exercício 4.6 Escreva um programa que pergunte a distância que um passageiro deseja percorrer em km.\n",
    "# Calcule o preço da passagem, cobrando R$ 0,50 por km para viagens de até de 200 km, e R$ 0,45 para viagens mais longas.\n",
    "KM = float(input( \"Qual a distancia em Km que pretende viajar? \"))\n",
    "if KM <= 200:\n",
    "    passagem=KM*0.5\n",
    "    print(\"O valor da passagem é de R$\",round (passagem))\n",
    "else:\n",
    "    passagem=KM*0.45\n",
    "    print(\"O valor da passagem é de R$\",round (passagem))"
   ]
  },
  {
   "cell_type": "code",
   "execution_count": 24,
   "id": "a951d6e8-573e-40b4-90e7-877da4aaef47",
   "metadata": {},
   "outputs": [
    {
     "name": "stdin",
     "output_type": "stream",
     "text": [
      "Qual a distancia em Km que pretende viajar?  500\n"
     ]
    },
    {
     "name": "stdout",
     "output_type": "stream",
     "text": [
      "O valor da passagem é de R$ 225\n"
     ]
    }
   ],
   "source": [
    "KM = float(input( \"Qual a distancia em Km que pretende viajar? \"))\n",
    "if KM <= 200:\n",
    "    passagem=KM*0.5\n",
    "    print(\"O valor da passagem é de R$\",round (passagem))\n",
    "else:\n",
    "    passagem=KM*0.45\n",
    "    print(\"O valor da passagem é de R$\",round (passagem))"
   ]
  },
  {
   "cell_type": "code",
   "execution_count": 27,
   "id": "cc030d72-5a08-4835-8517-45278fa16989",
   "metadata": {},
   "outputs": [
    {
     "name": "stdin",
     "output_type": "stream",
     "text": [
      "Quantos Minutos você utilizou este Mês? 100\n"
     ]
    },
    {
     "name": "stdout",
     "output_type": "stream",
     "text": [
      "Você vai pagar este Mês: R$ 20.00 \n"
     ]
    }
   ],
   "source": [
    "#Progra111a 4.5 - Conta de telefone com três faixas de preço\n",
    "minutos= int(input(\"Quantos Minutos você utilizou este Mês?\"))\n",
    "if minutos < 200:\n",
    "    preco= 0.20\n",
    "else:\n",
    "    if minutos < 400:\n",
    "        preco = 0.18\n",
    "    else:\n",
    "        preco= 0.15\n",
    "print(f\"Você vai pagar este Mês: R${minutos * preco:6.2f} \")"
   ]
  },
  {
   "cell_type": "code",
   "execution_count": 28,
   "id": "c1a7188c-a3bd-4d9d-9ff2-42ee4eda39e1",
   "metadata": {},
   "outputs": [
    {
     "name": "stdin",
     "output_type": "stream",
     "text": [
      "Quantos Minutos você utilizou este Mês? 200\n"
     ]
    },
    {
     "name": "stdout",
     "output_type": "stream",
     "text": [
      "Você vai pagar este Mês: R$ 36.00 \n"
     ]
    }
   ],
   "source": [
    "minutos= int(input(\"Quantos Minutos você utilizou este Mês?\"))\n",
    "if minutos < 200:\n",
    "    preco= 0.20\n",
    "else:\n",
    "    if minutos < 400:\n",
    "        preco = 0.18\n",
    "    else:\n",
    "        preco= 0.15\n",
    "print(f\"Você vai pagar este Mês: R${minutos * preco:6.2f} \")"
   ]
  },
  {
   "cell_type": "code",
   "execution_count": 29,
   "id": "ec5a5986-ff5e-4907-9797-06557167c6bc",
   "metadata": {},
   "outputs": [
    {
     "name": "stdin",
     "output_type": "stream",
     "text": [
      "Quantos Minutos você utilizou este Mês? 400\n"
     ]
    },
    {
     "name": "stdout",
     "output_type": "stream",
     "text": [
      "Você vai pagar este Mês: R$ 60.00 \n"
     ]
    }
   ],
   "source": [
    "minutos= int(input(\"Quantos Minutos você utilizou este Mês?\"))\n",
    "if minutos < 200:\n",
    "    preco= 0.20\n",
    "else:\n",
    "    if minutos < 400:\n",
    "        preco = 0.18\n",
    "    else:\n",
    "        preco= 0.15\n",
    "print(f\"Você vai pagar este Mês: R${minutos * preco:6.2f} \")"
   ]
  },
  {
   "cell_type": "code",
   "execution_count": 30,
   "id": "c70caece-3420-4b8c-b2c7-1fc5a3e8bd68",
   "metadata": {},
   "outputs": [
    {
     "name": "stdin",
     "output_type": "stream",
     "text": [
      "Quantos Minutos você utilizou este Mês? 600\n"
     ]
    },
    {
     "name": "stdout",
     "output_type": "stream",
     "text": [
      "Você vai pagar este Mês: R$ 90.00 \n"
     ]
    }
   ],
   "source": [
    "minutos= int(input(\"Quantos Minutos você utilizou este Mês?\"))\n",
    "if minutos < 200:\n",
    "    preco= 0.20\n",
    "else:\n",
    "    if minutos < 400:\n",
    "        preco = 0.18\n",
    "    else:\n",
    "        preco= 0.15\n",
    "print(f\"Você vai pagar este Mês: R${minutos * preco:6.2f} \")"
   ]
  },
  {
   "cell_type": "code",
   "execution_count": 31,
   "id": "1c82db45-3d56-4e3b-8d8f-6e7a2490f3ce",
   "metadata": {},
   "outputs": [
    {
     "name": "stdin",
     "output_type": "stream",
     "text": [
      "Digite a categoria do produto:  1\n"
     ]
    },
    {
     "name": "stdout",
     "output_type": "stream",
     "text": [
      "O preço do produto é: R$ 10.00\n"
     ]
    }
   ],
   "source": [
    "#Programa 4.6 - Categoria x preço\n",
    "categoria= int(input( \"Digite a categoria do produto: \"))\n",
    "if categoria==1:\n",
    "    preço= 10\n",
    "else:\n",
    "    if categoria == 2:\n",
    "        preço= 18\n",
    "    else:\n",
    "        if categoria== 3:\n",
    "            preço = 23\n",
    "        else:\n",
    "            if categoria== 4:\n",
    "                preço = 26\n",
    "            else:\n",
    "                if categoria== 5:\n",
    "                    preço= 31\n",
    "                else:\n",
    "                    print( \"Categoria inválida, digite um valor entre 1 e 5! \")\n",
    "                    preço= 0\n",
    "print(f\"O preço do produto é: R${preço:6.2f}\")"
   ]
  },
  {
   "cell_type": "code",
   "execution_count": 32,
   "id": "e9c659bd-9349-48d4-b9da-50157f6e8106",
   "metadata": {},
   "outputs": [
    {
     "name": "stdin",
     "output_type": "stream",
     "text": [
      "Digite a categoria do produto:  2\n"
     ]
    },
    {
     "name": "stdout",
     "output_type": "stream",
     "text": [
      "O preço do produto é: R$ 18.00\n"
     ]
    }
   ],
   "source": [
    "categoria= int(input( \"Digite a categoria do produto: \"))\n",
    "if categoria==1:\n",
    "    preço= 10\n",
    "else:\n",
    "    if categoria == 2:\n",
    "        preço= 18\n",
    "    else:\n",
    "        if categoria== 3:\n",
    "            preço = 23\n",
    "        else:\n",
    "            if categoria== 4:\n",
    "                preço = 26\n",
    "            else:\n",
    "                if categoria== 5:\n",
    "                    preço= 31\n",
    "                else:\n",
    "                    print( \"Categoria inválida, digite um valor entre 1 e 5! \")\n",
    "                    preço= 0\n",
    "print(f\"O preço do produto é: R${preço:6.2f}\")"
   ]
  },
  {
   "cell_type": "code",
   "execution_count": 33,
   "id": "6cd8bbb6-51dc-4689-9370-62762ffda4ff",
   "metadata": {},
   "outputs": [
    {
     "name": "stdin",
     "output_type": "stream",
     "text": [
      "Digite a categoria do produto:  3\n"
     ]
    },
    {
     "name": "stdout",
     "output_type": "stream",
     "text": [
      "O preço do produto é: R$ 23.00\n"
     ]
    }
   ],
   "source": [
    "categoria= int(input( \"Digite a categoria do produto: \"))\n",
    "if categoria==1:\n",
    "    preço= 10\n",
    "else:\n",
    "    if categoria == 2:\n",
    "        preço= 18\n",
    "    else:\n",
    "        if categoria== 3:\n",
    "            preço = 23\n",
    "        else:\n",
    "            if categoria== 4:\n",
    "                preço = 26\n",
    "            else:\n",
    "                if categoria== 5:\n",
    "                    preço= 31\n",
    "                else:\n",
    "                    print( \"Categoria inválida, digite um valor entre 1 e 5! \")\n",
    "                    preço= 0\n",
    "print(f\"O preço do produto é: R${preço:6.2f}\")"
   ]
  },
  {
   "cell_type": "code",
   "execution_count": 34,
   "id": "0248bbd4-76e0-42f2-b9b0-6e0db672d04f",
   "metadata": {},
   "outputs": [
    {
     "name": "stdin",
     "output_type": "stream",
     "text": [
      "Digite a categoria do produto:  4\n"
     ]
    },
    {
     "name": "stdout",
     "output_type": "stream",
     "text": [
      "O preço do produto é: R$ 26.00\n"
     ]
    }
   ],
   "source": [
    "categoria= int(input( \"Digite a categoria do produto: \"))\n",
    "if categoria==1:\n",
    "    preço= 10\n",
    "else:\n",
    "    if categoria == 2:\n",
    "        preço= 18\n",
    "    else:\n",
    "        if categoria== 3:\n",
    "            preço = 23\n",
    "        else:\n",
    "            if categoria== 4:\n",
    "                preço = 26\n",
    "            else:\n",
    "                if categoria== 5:\n",
    "                    preço= 31\n",
    "                else:\n",
    "                    print( \"Categoria inválida, digite um valor entre 1 e 5! \")\n",
    "                    preço= 0\n",
    "print(f\"O preço do produto é: R${preço:6.2f}\")"
   ]
  },
  {
   "cell_type": "code",
   "execution_count": 35,
   "id": "d982d293-d949-4caa-81a4-caf4b401fb11",
   "metadata": {},
   "outputs": [
    {
     "name": "stdin",
     "output_type": "stream",
     "text": [
      "Digite a categoria do produto:  5\n"
     ]
    },
    {
     "name": "stdout",
     "output_type": "stream",
     "text": [
      "O preço do produto é: R$ 31.00\n"
     ]
    }
   ],
   "source": [
    "categoria= int(input( \"Digite a categoria do produto: \"))\n",
    "if categoria==1:\n",
    "    preço= 10\n",
    "else:\n",
    "    if categoria == 2:\n",
    "        preço= 18\n",
    "    else:\n",
    "        if categoria== 3:\n",
    "            preço = 23\n",
    "        else:\n",
    "            if categoria== 4:\n",
    "                preço = 26\n",
    "            else:\n",
    "                if categoria== 5:\n",
    "                    preço= 31\n",
    "                else:\n",
    "                    print( \"Categoria inválida, digite um valor entre 1 e 5! \")\n",
    "                    preço= 0\n",
    "print(f\"O preço do produto é: R${preço:6.2f}\")"
   ]
  },
  {
   "cell_type": "code",
   "execution_count": 36,
   "id": "33f0d91f-941d-4f85-803b-3cd0614ef446",
   "metadata": {},
   "outputs": [
    {
     "name": "stdin",
     "output_type": "stream",
     "text": [
      "Digite a categoria do produto:  8\n"
     ]
    },
    {
     "name": "stdout",
     "output_type": "stream",
     "text": [
      "Categoria inválida, digite um valor entre 1 e 5! \n",
      "O preço do produto é: R$  0.00\n"
     ]
    }
   ],
   "source": [
    "categoria= int(input( \"Digite a categoria do produto: \"))\n",
    "if categoria==1:\n",
    "    preço= 10\n",
    "else:\n",
    "    if categoria == 2:\n",
    "        preço= 18\n",
    "    else:\n",
    "        if categoria== 3:\n",
    "            preço = 23\n",
    "        else:\n",
    "            if categoria== 4:\n",
    "                preço = 26\n",
    "            else:\n",
    "                if categoria== 5:\n",
    "                    preço= 31\n",
    "                else:\n",
    "                    print( \"Categoria inválida, digite um valor entre 1 e 5! \")\n",
    "                    preço= 0\n",
    "print(f\"O preço do produto é: R${preço:6.2f}\")"
   ]
  },
  {
   "cell_type": "code",
   "execution_count": null,
   "id": "6fa3b56f-f623-4615-a50e-f790960117d9",
   "metadata": {},
   "outputs": [],
   "source": []
  }
 ],
 "metadata": {
  "kernelspec": {
   "display_name": "Python 3 (ipykernel)",
   "language": "python",
   "name": "python3"
  },
  "language_info": {
   "codemirror_mode": {
    "name": "ipython",
    "version": 3
   },
   "file_extension": ".py",
   "mimetype": "text/x-python",
   "name": "python",
   "nbconvert_exporter": "python",
   "pygments_lexer": "ipython3",
   "version": "3.12.7"
  }
 },
 "nbformat": 4,
 "nbformat_minor": 5
}
